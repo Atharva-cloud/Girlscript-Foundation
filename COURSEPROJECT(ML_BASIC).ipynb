{
 "cells": [
  {
   "cell_type": "markdown",
   "metadata": {},
   "source": [
    "# PROBLEM STATEMENT : To Predict whether a Netflix TV Show would have an IMDB rating above 7.0 and R-Rating above 75."
   ]
  },
  {
   "cell_type": "markdown",
   "metadata": {},
   "source": [
    "# 1. Importing Packages"
   ]
  },
  {
   "cell_type": "code",
   "execution_count": 39,
   "metadata": {},
   "outputs": [],
   "source": [
    "import numpy as np\n",
    "import pandas as pd\n",
    "import pandas_profiling as p\n",
    "import matplotlib.pyplot as plt\n",
    "import seaborn as sns\n",
    "%matplotlib inline"
   ]
  },
  {
   "cell_type": "markdown",
   "metadata": {},
   "source": [
    "# About The Data"
   ]
  },
  {
   "cell_type": "markdown",
   "metadata": {},
   "source": [
    "At our hand we have a huge Dataset containing different web-series' and Tv-Shows. The data will give us various insights of the OTT industry which has become a mainstay in our lives.  "
   ]
  },
  {
   "cell_type": "markdown",
   "metadata": {},
   "source": [
    "# Introduction"
   ]
  },
  {
   "cell_type": "markdown",
   "metadata": {},
   "source": [
    "The OTT industry has grown in leaps and bounds during the last decade or so. We are going to analyse one of the OTT giants-'NETFLIX'. Since 2010 the number of web series' on netflix has tripled while the number of movies aired have reduced by a significant margin. "
   ]
  },
  {
   "cell_type": "markdown",
   "metadata": {},
   "source": [
    "# 2.Data Visualization "
   ]
  },
  {
   "cell_type": "markdown",
   "metadata": {},
   "source": [
    "# Importing Data"
   ]
  },
  {
   "cell_type": "code",
   "execution_count": 40,
   "metadata": {},
   "outputs": [
    {
     "data": {
      "text/html": [
       "<div>\n",
       "<style scoped>\n",
       "    .dataframe tbody tr th:only-of-type {\n",
       "        vertical-align: middle;\n",
       "    }\n",
       "\n",
       "    .dataframe tbody tr th {\n",
       "        vertical-align: top;\n",
       "    }\n",
       "\n",
       "    .dataframe thead th {\n",
       "        text-align: right;\n",
       "    }\n",
       "</style>\n",
       "<table border=\"1\" class=\"dataframe\">\n",
       "  <thead>\n",
       "    <tr style=\"text-align: right;\">\n",
       "      <th></th>\n",
       "      <th>ï»¿Series Title</th>\n",
       "      <th>Year Released</th>\n",
       "      <th>Content Rating</th>\n",
       "      <th>IMDB Rating</th>\n",
       "      <th>R Rating</th>\n",
       "      <th>Genre</th>\n",
       "      <th>Description</th>\n",
       "      <th>No of Seasons</th>\n",
       "      <th>Streaming Platform</th>\n",
       "    </tr>\n",
       "  </thead>\n",
       "  <tbody>\n",
       "    <tr>\n",
       "      <th>0</th>\n",
       "      <td>Breaking Bad</td>\n",
       "      <td>2008</td>\n",
       "      <td>18+</td>\n",
       "      <td>9.5</td>\n",
       "      <td>100</td>\n",
       "      <td>Crime,Drama</td>\n",
       "      <td>When Walter White, a New Mexico chemistry teac...</td>\n",
       "      <td>5Seasons</td>\n",
       "      <td>Netflix</td>\n",
       "    </tr>\n",
       "    <tr>\n",
       "      <th>1</th>\n",
       "      <td>Game of Thrones</td>\n",
       "      <td>2011</td>\n",
       "      <td>18+</td>\n",
       "      <td>9.3</td>\n",
       "      <td>99</td>\n",
       "      <td>Action &amp; Adventure,Drama</td>\n",
       "      <td>Seven noble families fight for control of the ...</td>\n",
       "      <td>8Seasons</td>\n",
       "      <td>HBO MAX,HBO</td>\n",
       "    </tr>\n",
       "    <tr>\n",
       "      <th>2</th>\n",
       "      <td>Rick and Morty</td>\n",
       "      <td>2013</td>\n",
       "      <td>18+</td>\n",
       "      <td>9.2</td>\n",
       "      <td>97</td>\n",
       "      <td>Animation,Comedy</td>\n",
       "      <td>Rick is a mentally-unbalanced but scientifical...</td>\n",
       "      <td>4Seasons</td>\n",
       "      <td>Free Services,HBO MAX,Hulu</td>\n",
       "    </tr>\n",
       "    <tr>\n",
       "      <th>3</th>\n",
       "      <td>Stranger Things</td>\n",
       "      <td>2016</td>\n",
       "      <td>16+</td>\n",
       "      <td>8.8</td>\n",
       "      <td>96</td>\n",
       "      <td>Drama,Fantasy</td>\n",
       "      <td>When a young boy vanishes, a small town uncove...</td>\n",
       "      <td>3Seasons</td>\n",
       "      <td>Netflix</td>\n",
       "    </tr>\n",
       "    <tr>\n",
       "      <th>4</th>\n",
       "      <td>The Boys</td>\n",
       "      <td>2019</td>\n",
       "      <td>18+</td>\n",
       "      <td>8.7</td>\n",
       "      <td>95</td>\n",
       "      <td>Action &amp; Adventure,Comedy</td>\n",
       "      <td>A group of vigilantes known informally as âT...</td>\n",
       "      <td>2Seasons</td>\n",
       "      <td>Prime Video</td>\n",
       "    </tr>\n",
       "    <tr>\n",
       "      <th>5</th>\n",
       "      <td>Dark</td>\n",
       "      <td>2017</td>\n",
       "      <td>16+</td>\n",
       "      <td>8.8</td>\n",
       "      <td>95</td>\n",
       "      <td>Crime,Drama</td>\n",
       "      <td>A missing child causes four families to help e...</td>\n",
       "      <td>3Seasons</td>\n",
       "      <td>Netflix</td>\n",
       "    </tr>\n",
       "    <tr>\n",
       "      <th>6</th>\n",
       "      <td>Chernobyl</td>\n",
       "      <td>2019</td>\n",
       "      <td>18+</td>\n",
       "      <td>9.4</td>\n",
       "      <td>95</td>\n",
       "      <td>Drama,History</td>\n",
       "      <td>The true story of one of the worst man-made ca...</td>\n",
       "      <td>1Season</td>\n",
       "      <td>HBO MAX,HBO</td>\n",
       "    </tr>\n",
       "    <tr>\n",
       "      <th>7</th>\n",
       "      <td>Sherlock</td>\n",
       "      <td>2010</td>\n",
       "      <td>16+</td>\n",
       "      <td>9.1</td>\n",
       "      <td>94</td>\n",
       "      <td>Action &amp; Adventure,Crime</td>\n",
       "      <td>A modern update finds the famous sleuth and hi...</td>\n",
       "      <td>4Seasons</td>\n",
       "      <td>Netflix</td>\n",
       "    </tr>\n",
       "    <tr>\n",
       "      <th>8</th>\n",
       "      <td>Fargo</td>\n",
       "      <td>2014</td>\n",
       "      <td>18+</td>\n",
       "      <td>8.9</td>\n",
       "      <td>94</td>\n",
       "      <td>Crime,Drama</td>\n",
       "      <td>A close-knit anthology series dealing with sto...</td>\n",
       "      <td>3Seasons</td>\n",
       "      <td>Hulu</td>\n",
       "    </tr>\n",
       "    <tr>\n",
       "      <th>9</th>\n",
       "      <td>Avatar: The Last Airbender</td>\n",
       "      <td>2005</td>\n",
       "      <td>7+</td>\n",
       "      <td>9.2</td>\n",
       "      <td>94</td>\n",
       "      <td>Action &amp; Adventure,Animation</td>\n",
       "      <td>In a war-torn world of elemental magic, a youn...</td>\n",
       "      <td>3Seasons</td>\n",
       "      <td>Netflix,CBS All Access,Hoopla</td>\n",
       "    </tr>\n",
       "  </tbody>\n",
       "</table>\n",
       "</div>"
      ],
      "text/plain": [
       "              ï»¿Series Title  Year Released Content Rating  IMDB Rating  \\\n",
       "0                Breaking Bad           2008            18+          9.5   \n",
       "1             Game of Thrones           2011            18+          9.3   \n",
       "2              Rick and Morty           2013            18+          9.2   \n",
       "3             Stranger Things           2016            16+          8.8   \n",
       "4                    The Boys           2019            18+          8.7   \n",
       "5                        Dark           2017            16+          8.8   \n",
       "6                   Chernobyl           2019            18+          9.4   \n",
       "7                    Sherlock           2010            16+          9.1   \n",
       "8                       Fargo           2014            18+          8.9   \n",
       "9  Avatar: The Last Airbender           2005             7+          9.2   \n",
       "\n",
       "   R Rating                         Genre  \\\n",
       "0       100                   Crime,Drama   \n",
       "1        99      Action & Adventure,Drama   \n",
       "2        97              Animation,Comedy   \n",
       "3        96                 Drama,Fantasy   \n",
       "4        95     Action & Adventure,Comedy   \n",
       "5        95                   Crime,Drama   \n",
       "6        95                 Drama,History   \n",
       "7        94      Action & Adventure,Crime   \n",
       "8        94                   Crime,Drama   \n",
       "9        94  Action & Adventure,Animation   \n",
       "\n",
       "                                         Description No of Seasons  \\\n",
       "0  When Walter White, a New Mexico chemistry teac...      5Seasons   \n",
       "1  Seven noble families fight for control of the ...      8Seasons   \n",
       "2  Rick is a mentally-unbalanced but scientifical...      4Seasons   \n",
       "3  When a young boy vanishes, a small town uncove...      3Seasons   \n",
       "4  A group of vigilantes known informally as âT...      2Seasons   \n",
       "5  A missing child causes four families to help e...      3Seasons   \n",
       "6  The true story of one of the worst man-made ca...       1Season   \n",
       "7  A modern update finds the famous sleuth and hi...      4Seasons   \n",
       "8  A close-knit anthology series dealing with sto...      3Seasons   \n",
       "9  In a war-torn world of elemental magic, a youn...      3Seasons   \n",
       "\n",
       "              Streaming Platform  \n",
       "0                        Netflix  \n",
       "1                    HBO MAX,HBO  \n",
       "2     Free Services,HBO MAX,Hulu  \n",
       "3                        Netflix  \n",
       "4                    Prime Video  \n",
       "5                        Netflix  \n",
       "6                    HBO MAX,HBO  \n",
       "7                        Netflix  \n",
       "8                           Hulu  \n",
       "9  Netflix,CBS All Access,Hoopla  "
      ]
     },
     "execution_count": 40,
     "metadata": {},
     "output_type": "execute_result"
    }
   ],
   "source": [
    "data=pd.read_csv(\"C:/Users/athar/OneDrive/Documents/All_Streaming_Shows.csv\",encoding='unicode-escape')\n",
    "data.head(10)"
   ]
  },
  {
   "cell_type": "markdown",
   "metadata": {},
   "source": [
    "# 3.Data Profiling\n"
   ]
  },
  {
   "cell_type": "markdown",
   "metadata": {},
   "source": [
    "- In the upcoming sections we will first understand our dataset using various pandas functionalities.\n",
    "- Then with the help of pandas profiling we will find which columns of our dataset need preprocessing.\n",
    "- In preprocessing we will deal with erronous and missing values of columns.\n",
    "- Again we will do pandas profiling to see how preprocessing have transformed our dataset."
   ]
  },
  {
   "cell_type": "code",
   "execution_count": 41,
   "metadata": {},
   "outputs": [
    {
     "name": "stdout",
     "output_type": "stream",
     "text": [
      "<class 'pandas.core.frame.DataFrame'>\n",
      "RangeIndex: 12353 entries, 0 to 12352\n",
      "Data columns (total 9 columns):\n",
      " #   Column              Non-Null Count  Dtype  \n",
      "---  ------              --------------  -----  \n",
      " 0   ï»¿Series Title     12353 non-null  object \n",
      " 1   Year Released       12353 non-null  int64  \n",
      " 2   Content Rating      7232 non-null   object \n",
      " 3   IMDB Rating         10207 non-null  float64\n",
      " 4   R Rating            12353 non-null  int64  \n",
      " 5   Genre               12353 non-null  object \n",
      " 6   Description         12353 non-null  object \n",
      " 7   No of Seasons       12353 non-null  object \n",
      " 8   Streaming Platform  10370 non-null  object \n",
      "dtypes: float64(1), int64(2), object(6)\n",
      "memory usage: 579.1+ KB\n"
     ]
    }
   ],
   "source": [
    "data.info()"
   ]
  },
  {
   "cell_type": "markdown",
   "metadata": {},
   "source": [
    " From the above stats we observe that we have **12353** different Web-Series and Tv-Shows across all platforms'\n",
    " -  We can see there is some missing data as there are some incomplete records.\n",
    " -  All the variables are present in appropriate data types"
   ]
  },
  {
   "cell_type": "markdown",
   "metadata": {},
   "source": [
    "# Understanding the data "
   ]
  },
  {
   "cell_type": "code",
   "execution_count": 42,
   "metadata": {},
   "outputs": [
    {
     "data": {
      "text/plain": [
       "(12353, 9)"
      ]
     },
     "execution_count": 42,
     "metadata": {},
     "output_type": "execute_result"
    }
   ],
   "source": [
    "data.shape"
   ]
  },
  {
   "cell_type": "markdown",
   "metadata": {},
   "source": [
    "In this data there are **12353 rows** and **9 columns** "
   ]
  },
  {
   "cell_type": "code",
   "execution_count": 43,
   "metadata": {},
   "outputs": [
    {
     "data": {
      "text/plain": [
       "Index(['ï»¿Series Title', 'Year Released', 'Content Rating', 'IMDB Rating',\n",
       "       'R Rating', 'Genre', 'Description', 'No of Seasons',\n",
       "       'Streaming Platform'],\n",
       "      dtype='object')"
      ]
     },
     "execution_count": 43,
     "metadata": {},
     "output_type": "execute_result"
    }
   ],
   "source": [
    "data.columns"
   ]
  },
  {
   "cell_type": "code",
   "execution_count": 44,
   "metadata": {},
   "outputs": [
    {
     "data": {
      "text/html": [
       "<div>\n",
       "<style scoped>\n",
       "    .dataframe tbody tr th:only-of-type {\n",
       "        vertical-align: middle;\n",
       "    }\n",
       "\n",
       "    .dataframe tbody tr th {\n",
       "        vertical-align: top;\n",
       "    }\n",
       "\n",
       "    .dataframe thead th {\n",
       "        text-align: right;\n",
       "    }\n",
       "</style>\n",
       "<table border=\"1\" class=\"dataframe\">\n",
       "  <thead>\n",
       "    <tr style=\"text-align: right;\">\n",
       "      <th></th>\n",
       "      <th>Year Released</th>\n",
       "      <th>IMDB Rating</th>\n",
       "      <th>R Rating</th>\n",
       "    </tr>\n",
       "  </thead>\n",
       "  <tbody>\n",
       "    <tr>\n",
       "      <th>count</th>\n",
       "      <td>12353.000000</td>\n",
       "      <td>10207.000000</td>\n",
       "      <td>12353.000000</td>\n",
       "    </tr>\n",
       "    <tr>\n",
       "      <th>mean</th>\n",
       "      <td>2010.495345</td>\n",
       "      <td>6.973156</td>\n",
       "      <td>43.982029</td>\n",
       "    </tr>\n",
       "    <tr>\n",
       "      <th>std</th>\n",
       "      <td>11.240943</td>\n",
       "      <td>1.149726</td>\n",
       "      <td>20.660914</td>\n",
       "    </tr>\n",
       "    <tr>\n",
       "      <th>min</th>\n",
       "      <td>1901.000000</td>\n",
       "      <td>1.000000</td>\n",
       "      <td>-1.000000</td>\n",
       "    </tr>\n",
       "    <tr>\n",
       "      <th>25%</th>\n",
       "      <td>2009.000000</td>\n",
       "      <td>6.400000</td>\n",
       "      <td>33.000000</td>\n",
       "    </tr>\n",
       "    <tr>\n",
       "      <th>50%</th>\n",
       "      <td>2014.000000</td>\n",
       "      <td>7.200000</td>\n",
       "      <td>46.000000</td>\n",
       "    </tr>\n",
       "    <tr>\n",
       "      <th>75%</th>\n",
       "      <td>2017.000000</td>\n",
       "      <td>7.800000</td>\n",
       "      <td>58.000000</td>\n",
       "    </tr>\n",
       "    <tr>\n",
       "      <th>max</th>\n",
       "      <td>2020.000000</td>\n",
       "      <td>9.700000</td>\n",
       "      <td>100.000000</td>\n",
       "    </tr>\n",
       "  </tbody>\n",
       "</table>\n",
       "</div>"
      ],
      "text/plain": [
       "       Year Released   IMDB Rating      R Rating\n",
       "count   12353.000000  10207.000000  12353.000000\n",
       "mean     2010.495345      6.973156     43.982029\n",
       "std        11.240943      1.149726     20.660914\n",
       "min      1901.000000      1.000000     -1.000000\n",
       "25%      2009.000000      6.400000     33.000000\n",
       "50%      2014.000000      7.200000     46.000000\n",
       "75%      2017.000000      7.800000     58.000000\n",
       "max      2020.000000      9.700000    100.000000"
      ]
     },
     "execution_count": 44,
     "metadata": {},
     "output_type": "execute_result"
    }
   ],
   "source": [
    "data.describe()"
   ]
  },
  {
   "cell_type": "markdown",
   "metadata": {},
   "source": [
    "**Observations**\n",
    "- Average IMDB Rating among all shows is **6.97**\n",
    "- Lowest IMDB Rating is **1.00**\n",
    "- Best IMDB RatIng is **9.70**"
   ]
  },
  {
   "cell_type": "code",
   "execution_count": 45,
   "metadata": {},
   "outputs": [
    {
     "data": {
      "text/plain": [
       "array([[<AxesSubplot:title={'center':'Year Released'}>,\n",
       "        <AxesSubplot:title={'center':'IMDB Rating'}>],\n",
       "       [<AxesSubplot:title={'center':'R Rating'}>, <AxesSubplot:>]],\n",
       "      dtype=object)"
      ]
     },
     "execution_count": 45,
     "metadata": {},
     "output_type": "execute_result"
    },
    {
     "data": {
      "image/png": "[encoded data removed]",
      "text/plain": [
       "<Figure size 1008x864 with 4 Axes>"
      ]
     },
     "metadata": {
      "needs_background": "light"
     },
     "output_type": "display_data"
    }
   ],
   "source": [
    "data.hist(bins=20,figsize=(14,12))"
   ]
  },
  {
   "cell_type": "markdown",
   "metadata": {},
   "source": [
    "**Observations Based on the above histograms**\n",
    "-  There is a steep increase in the number of Web-Series' in the years **2010-2020**.\n",
    "-  R-Rating Graph highlights the fact that most shows have quite a moderate R-Rating i.e; between **40 and 60**\n",
    "-  The IMDB graph depicts that more that **2000** shows have been rated between **7 and 8**\n",
    "-  Another important observation shows that **750+** shows have an IMDB Rating **</=6 and** R-Rating **close to 0**\n"
   ]
  },
  {
   "cell_type": "markdown",
   "metadata": {},
   "source": [
    "# 3.1 Pre-Profiling"
   ]
  },
  {
   "cell_type": "markdown",
   "metadata": {},
   "source": [
    "- By pandas profiling, an **interactive HTML report** gets generated which contins all the information about the columns of the dataset, like the counts and type of each column. Detailed information about each column, **coorelation** between different columns and a sample of dataset.\n",
    "-  It gives us **visual interpretation** of each column in the data.\n",
    "-  Spread of the data can be better understood by the distribution plot.\n",
    "-  *Grannular* level analysis of each column."
   ]
  },
  {
   "cell_type": "code",
   "execution_count": 46,
   "metadata": {},
   "outputs": [
    {
     "data": {
      "application/vnd.jupyter.widget-view+json": {
       "model_id": "c7af01d3666b4c7e9523ec5aba3dc3f4",
       "version_major": 2,
       "version_minor": 0
      },
      "text/plain": [
       "Summarize dataset:   0%|          | 0/23 [00:00<?, ?it/s]"
      ]
     },
     "metadata": {},
     "output_type": "display_data"
    },
    {
     "data": {
      "application/vnd.jupyter.widget-view+json": {
       "model_id": "30fe435293b545cb87c8b3e4198bfaa2",
       "version_major": 2,
       "version_minor": 0
      },
      "text/plain": [
       "Generate report structure:   0%|          | 0/1 [00:00<?, ?it/s]"
      ]
     },
     "metadata": {},
     "output_type": "display_data"
    },
    {
     "data": {
      "application/vnd.jupyter.widget-view+json": {
       "model_id": "d4e78146645c4b799bf36dae98c8f6c1",
       "version_major": 2,
       "version_minor": 0
      },
      "text/plain": [
       "Render HTML:   0%|          | 0/1 [00:00<?, ?it/s]"
      ]
     },
     "metadata": {},
     "output_type": "display_data"
    },
    {
     "data": {
      "application/vnd.jupyter.widget-view+json": {
       "model_id": "2adb53201df24dfb804659722e44e9d6",
       "version_major": 2,
       "version_minor": 0
      },
      "text/plain": [
       "Export report to file:   0%|          | 0/1 [00:00<?, ?it/s]"
      ]
     },
     "metadata": {},
     "output_type": "display_data"
    }
   ],
   "source": [
    "from pandas_profiling import ProfileReport\n",
    "profile=ProfileReport(data,title=\"Pandas Profiling Report\")\n",
    "profile.to_file(\"data_before-PreProcessing.html\")"
   ]
  },
  {
   "cell_type": "markdown",
   "metadata": {},
   "source": [
    "*You need to install pandas version 0.25 before pandasprofiling or you might face some errors while profiling*"
   ]
  },
  {
   "cell_type": "markdown",
   "metadata": {},
   "source": [
    "**Observations from Pandas Profiling before Data processing dataset info:**\n",
    "-  Number of variables: 09\n",
    "-  Number of observations: 12353\n",
    "-  Missing cells: 8.3%\n",
    "\n",
    "**Variable Types:**\n",
    "-  Numeric: 3\n",
    "-  Categorical: 6\n",
    "\n",
    "**Some Things to note:**\n",
    "-  Mean R-Rating = 43.98\n",
    "-  There is an equal distribution of shows amongst all Genres.\n",
    "-  There are **5204** shows which have aired only for **1 Season**\n"
   ]
  },
  {
   "cell_type": "markdown",
   "metadata": {},
   "source": [
    "# 3.1 Pre-Processing"
   ]
  },
  {
   "cell_type": "markdown",
   "metadata": {},
   "source": [
    "-  Dealing with missing values\n",
    "-  Removing/Replacing **5121** missing **Content Rating** values with its Mode\n",
    "-  Deleting the **1983** missing values from the **Streaming Platform**"
   ]
  },
  {
   "cell_type": "code",
   "execution_count": 47,
   "metadata": {},
   "outputs": [
    {
     "data": {
      "text/plain": [
       "ï»¿Series Title          0\n",
       "Year Released            0\n",
       "Content Rating        5121\n",
       "IMDB Rating           2146\n",
       "R Rating                 0\n",
       "Genre                    0\n",
       "Description              0\n",
       "No of Seasons            0\n",
       "Streaming Platform    1983\n",
       "dtype: int64"
      ]
     },
     "execution_count": 47,
     "metadata": {},
     "output_type": "execute_result"
    }
   ],
   "source": [
    "data.isnull().sum()"
   ]
  },
  {
   "cell_type": "markdown",
   "metadata": {},
   "source": [
    "**Observations**\n",
    "-  We can see that maximum null values are in **IMDB Rating** and **Streaming Platform**. Later we'll see how to deal with them.\n",
    "-  **Content Rating** has **5121** null values which we will fill up by replacing them with the **Mode**"
   ]
  },
  {
   "cell_type": "code",
   "execution_count": 48,
   "metadata": {},
   "outputs": [
    {
     "data": {
      "text/html": [
       "<div>\n",
       "<style scoped>\n",
       "    .dataframe tbody tr th:only-of-type {\n",
       "        vertical-align: middle;\n",
       "    }\n",
       "\n",
       "    .dataframe tbody tr th {\n",
       "        vertical-align: top;\n",
       "    }\n",
       "\n",
       "    .dataframe thead th {\n",
       "        text-align: right;\n",
       "    }\n",
       "</style>\n",
       "<table border=\"1\" class=\"dataframe\">\n",
       "  <thead>\n",
       "    <tr style=\"text-align: right;\">\n",
       "      <th></th>\n",
       "      <th>Series Title</th>\n",
       "      <th>Year Released</th>\n",
       "      <th>AgeFactor</th>\n",
       "      <th>IMDB Rating</th>\n",
       "      <th>R Rating</th>\n",
       "      <th>Genre</th>\n",
       "      <th>Description</th>\n",
       "      <th>No of Seasons</th>\n",
       "      <th>Streaming Platform</th>\n",
       "    </tr>\n",
       "  </thead>\n",
       "  <tbody>\n",
       "    <tr>\n",
       "      <th>0</th>\n",
       "      <td>Breaking Bad</td>\n",
       "      <td>2008</td>\n",
       "      <td>18+</td>\n",
       "      <td>9.5</td>\n",
       "      <td>100</td>\n",
       "      <td>Crime,Drama</td>\n",
       "      <td>When Walter White, a New Mexico chemistry teac...</td>\n",
       "      <td>5Seasons</td>\n",
       "      <td>Netflix</td>\n",
       "    </tr>\n",
       "    <tr>\n",
       "      <th>1</th>\n",
       "      <td>Game of Thrones</td>\n",
       "      <td>2011</td>\n",
       "      <td>18+</td>\n",
       "      <td>9.3</td>\n",
       "      <td>99</td>\n",
       "      <td>Action &amp; Adventure,Drama</td>\n",
       "      <td>Seven noble families fight for control of the ...</td>\n",
       "      <td>8Seasons</td>\n",
       "      <td>HBO MAX,HBO</td>\n",
       "    </tr>\n",
       "    <tr>\n",
       "      <th>2</th>\n",
       "      <td>Rick and Morty</td>\n",
       "      <td>2013</td>\n",
       "      <td>18+</td>\n",
       "      <td>9.2</td>\n",
       "      <td>97</td>\n",
       "      <td>Animation,Comedy</td>\n",
       "      <td>Rick is a mentally-unbalanced but scientifical...</td>\n",
       "      <td>4Seasons</td>\n",
       "      <td>Free Services,HBO MAX,Hulu</td>\n",
       "    </tr>\n",
       "    <tr>\n",
       "      <th>3</th>\n",
       "      <td>Stranger Things</td>\n",
       "      <td>2016</td>\n",
       "      <td>16+</td>\n",
       "      <td>8.8</td>\n",
       "      <td>96</td>\n",
       "      <td>Drama,Fantasy</td>\n",
       "      <td>When a young boy vanishes, a small town uncove...</td>\n",
       "      <td>3Seasons</td>\n",
       "      <td>Netflix</td>\n",
       "    </tr>\n",
       "    <tr>\n",
       "      <th>4</th>\n",
       "      <td>The Boys</td>\n",
       "      <td>2019</td>\n",
       "      <td>18+</td>\n",
       "      <td>8.7</td>\n",
       "      <td>95</td>\n",
       "      <td>Action &amp; Adventure,Comedy</td>\n",
       "      <td>A group of vigilantes known informally as âT...</td>\n",
       "      <td>2Seasons</td>\n",
       "      <td>Prime Video</td>\n",
       "    </tr>\n",
       "  </tbody>\n",
       "</table>\n",
       "</div>"
      ],
      "text/plain": [
       "      Series Title  Year Released AgeFactor  IMDB Rating  R Rating  \\\n",
       "0     Breaking Bad           2008       18+          9.5       100   \n",
       "1  Game of Thrones           2011       18+          9.3        99   \n",
       "2   Rick and Morty           2013       18+          9.2        97   \n",
       "3  Stranger Things           2016       16+          8.8        96   \n",
       "4         The Boys           2019       18+          8.7        95   \n",
       "\n",
       "                       Genre  \\\n",
       "0                Crime,Drama   \n",
       "1   Action & Adventure,Drama   \n",
       "2           Animation,Comedy   \n",
       "3              Drama,Fantasy   \n",
       "4  Action & Adventure,Comedy   \n",
       "\n",
       "                                         Description No of Seasons  \\\n",
       "0  When Walter White, a New Mexico chemistry teac...      5Seasons   \n",
       "1  Seven noble families fight for control of the ...      8Seasons   \n",
       "2  Rick is a mentally-unbalanced but scientifical...      4Seasons   \n",
       "3  When a young boy vanishes, a small town uncove...      3Seasons   \n",
       "4  A group of vigilantes known informally as âT...      2Seasons   \n",
       "\n",
       "           Streaming Platform  \n",
       "0                     Netflix  \n",
       "1                 HBO MAX,HBO  \n",
       "2  Free Services,HBO MAX,Hulu  \n",
       "3                     Netflix  \n",
       "4                 Prime Video  "
      ]
     },
     "execution_count": 48,
     "metadata": {},
     "output_type": "execute_result"
    }
   ],
   "source": [
    "data=data.rename(columns={'ï»¿Series Title':'Series Title','Content Rating':'AgeFactor'})\n",
    "data.head()"
   ]
  },
  {
   "cell_type": "code",
   "execution_count": 49,
   "metadata": {},
   "outputs": [
    {
     "data": {
      "text/html": [
       "<div>\n",
       "<style scoped>\n",
       "    .dataframe tbody tr th:only-of-type {\n",
       "        vertical-align: middle;\n",
       "    }\n",
       "\n",
       "    .dataframe tbody tr th {\n",
       "        vertical-align: top;\n",
       "    }\n",
       "\n",
       "    .dataframe thead th {\n",
       "        text-align: right;\n",
       "    }\n",
       "</style>\n",
       "<table border=\"1\" class=\"dataframe\">\n",
       "  <thead>\n",
       "    <tr style=\"text-align: right;\">\n",
       "      <th></th>\n",
       "      <th>Year Released</th>\n",
       "      <th>AgeFactor</th>\n",
       "      <th>IMDB Rating</th>\n",
       "      <th>R Rating</th>\n",
       "      <th>Genre</th>\n",
       "      <th>Description</th>\n",
       "      <th>No of Seasons</th>\n",
       "      <th>Streaming Platform</th>\n",
       "    </tr>\n",
       "    <tr>\n",
       "      <th>Series Title</th>\n",
       "      <th></th>\n",
       "      <th></th>\n",
       "      <th></th>\n",
       "      <th></th>\n",
       "      <th></th>\n",
       "      <th></th>\n",
       "      <th></th>\n",
       "      <th></th>\n",
       "    </tr>\n",
       "  </thead>\n",
       "  <tbody>\n",
       "    <tr>\n",
       "      <th>Breaking Bad</th>\n",
       "      <td>2008</td>\n",
       "      <td>18+</td>\n",
       "      <td>9.5</td>\n",
       "      <td>100</td>\n",
       "      <td>Crime,Drama</td>\n",
       "      <td>When Walter White, a New Mexico chemistry teac...</td>\n",
       "      <td>5Seasons</td>\n",
       "      <td>Netflix</td>\n",
       "    </tr>\n",
       "    <tr>\n",
       "      <th>Game of Thrones</th>\n",
       "      <td>2011</td>\n",
       "      <td>18+</td>\n",
       "      <td>9.3</td>\n",
       "      <td>99</td>\n",
       "      <td>Action &amp; Adventure,Drama</td>\n",
       "      <td>Seven noble families fight for control of the ...</td>\n",
       "      <td>8Seasons</td>\n",
       "      <td>HBO MAX,HBO</td>\n",
       "    </tr>\n",
       "    <tr>\n",
       "      <th>Rick and Morty</th>\n",
       "      <td>2013</td>\n",
       "      <td>18+</td>\n",
       "      <td>9.2</td>\n",
       "      <td>97</td>\n",
       "      <td>Animation,Comedy</td>\n",
       "      <td>Rick is a mentally-unbalanced but scientifical...</td>\n",
       "      <td>4Seasons</td>\n",
       "      <td>Free Services,HBO MAX,Hulu</td>\n",
       "    </tr>\n",
       "    <tr>\n",
       "      <th>Stranger Things</th>\n",
       "      <td>2016</td>\n",
       "      <td>16+</td>\n",
       "      <td>8.8</td>\n",
       "      <td>96</td>\n",
       "      <td>Drama,Fantasy</td>\n",
       "      <td>When a young boy vanishes, a small town uncove...</td>\n",
       "      <td>3Seasons</td>\n",
       "      <td>Netflix</td>\n",
       "    </tr>\n",
       "    <tr>\n",
       "      <th>The Boys</th>\n",
       "      <td>2019</td>\n",
       "      <td>18+</td>\n",
       "      <td>8.7</td>\n",
       "      <td>95</td>\n",
       "      <td>Action &amp; Adventure,Comedy</td>\n",
       "      <td>A group of vigilantes known informally as âT...</td>\n",
       "      <td>2Seasons</td>\n",
       "      <td>Prime Video</td>\n",
       "    </tr>\n",
       "  </tbody>\n",
       "</table>\n",
       "</div>"
      ],
      "text/plain": [
       "                 Year Released AgeFactor  IMDB Rating  R Rating  \\\n",
       "Series Title                                                      \n",
       "Breaking Bad              2008       18+          9.5       100   \n",
       "Game of Thrones           2011       18+          9.3        99   \n",
       "Rick and Morty            2013       18+          9.2        97   \n",
       "Stranger Things           2016       16+          8.8        96   \n",
       "The Boys                  2019       18+          8.7        95   \n",
       "\n",
       "                                     Genre  \\\n",
       "Series Title                                 \n",
       "Breaking Bad                   Crime,Drama   \n",
       "Game of Thrones   Action & Adventure,Drama   \n",
       "Rick and Morty            Animation,Comedy   \n",
       "Stranger Things              Drama,Fantasy   \n",
       "The Boys         Action & Adventure,Comedy   \n",
       "\n",
       "                                                       Description  \\\n",
       "Series Title                                                         \n",
       "Breaking Bad     When Walter White, a New Mexico chemistry teac...   \n",
       "Game of Thrones  Seven noble families fight for control of the ...   \n",
       "Rick and Morty   Rick is a mentally-unbalanced but scientifical...   \n",
       "Stranger Things  When a young boy vanishes, a small town uncove...   \n",
       "The Boys         A group of vigilantes known informally as âT...   \n",
       "\n",
       "                No of Seasons          Streaming Platform  \n",
       "Series Title                                               \n",
       "Breaking Bad         5Seasons                     Netflix  \n",
       "Game of Thrones      8Seasons                 HBO MAX,HBO  \n",
       "Rick and Morty       4Seasons  Free Services,HBO MAX,Hulu  \n",
       "Stranger Things      3Seasons                     Netflix  \n",
       "The Boys             2Seasons                 Prime Video  "
      ]
     },
     "execution_count": 49,
     "metadata": {},
     "output_type": "execute_result"
    }
   ],
   "source": [
    "data=data.set_index('Series Title')\n",
    "data.head()"
   ]
  },
  {
   "cell_type": "code",
   "execution_count": 50,
   "metadata": {},
   "outputs": [],
   "source": [
    "data.AgeFactor=data.AgeFactor.fillna(data['AgeFactor'].mode()[0])   #Replaced the missing values by the mode.\n"
   ]
  },
  {
   "cell_type": "code",
   "execution_count": 51,
   "metadata": {},
   "outputs": [],
   "source": [
    "data=data.dropna(axis=0,how='any')   #Dropping all the rows with missing IMDB Rating and Streaming Platform because neither can't we perform analysis on missing data nor on fabricated data."
   ]
  },
  {
   "cell_type": "code",
   "execution_count": 52,
   "metadata": {},
   "outputs": [
    {
     "data": {
      "text/plain": [
       "Year Released         0\n",
       "AgeFactor             0\n",
       "IMDB Rating           0\n",
       "R Rating              0\n",
       "Genre                 0\n",
       "Description           0\n",
       "No of Seasons         0\n",
       "Streaming Platform    0\n",
       "dtype: int64"
      ]
     },
     "execution_count": 52,
     "metadata": {},
     "output_type": "execute_result"
    }
   ],
   "source": [
    "data.isnull().sum()"
   ]
  },
  {
   "cell_type": "markdown",
   "metadata": {},
   "source": [
    "*As we can see we have dealt with all the missing values*"
   ]
  },
  {
   "cell_type": "markdown",
   "metadata": {},
   "source": [
    "# 3.2 Post Pandas Profiling"
   ]
  },
  {
   "cell_type": "code",
   "execution_count": 53,
   "metadata": {},
   "outputs": [
    {
     "data": {
      "application/vnd.jupyter.widget-view+json": {
       "model_id": "e965d4908f57411c925d4c48b36b9cc5",
       "version_major": 2,
       "version_minor": 0
      },
      "text/plain": [
       "Summarize dataset:   0%|          | 0/23 [00:00<?, ?it/s]"
      ]
     },
     "metadata": {},
     "output_type": "display_data"
    },
    {
     "data": {
      "application/vnd.jupyter.widget-view+json": {
       "model_id": "0e7f619998cb4438b18778752162734c",
       "version_major": 2,
       "version_minor": 0
      },
      "text/plain": [
       "Generate report structure:   0%|          | 0/1 [00:00<?, ?it/s]"
      ]
     },
     "metadata": {},
     "output_type": "display_data"
    },
    {
     "data": {
      "application/vnd.jupyter.widget-view+json": {
       "model_id": "a0d985d2813648409a37cf73b6fd2b88",
       "version_major": 2,
       "version_minor": 0
      },
      "text/plain": [
       "Render HTML:   0%|          | 0/1 [00:00<?, ?it/s]"
      ]
     },
     "metadata": {},
     "output_type": "display_data"
    },
    {
     "data": {
      "application/vnd.jupyter.widget-view+json": {
       "model_id": "6515fdf427bf495fb7550ce0bd7a4962",
       "version_major": 2,
       "version_minor": 0
      },
      "text/plain": [
       "Export report to file:   0%|          | 0/1 [00:00<?, ?it/s]"
      ]
     },
     "metadata": {},
     "output_type": "display_data"
    }
   ],
   "source": [
    "from pandas_profiling import ProfileReport\n",
    "profile=ProfileReport(data,title=\"Pandas Profiling Report\")\n",
    "profile.to_file(\"data_after-PreProcessing.html\")"
   ]
  },
  {
   "cell_type": "markdown",
   "metadata": {},
   "source": [
    "**Observations From the new report**\n",
    "\n",
    "-  The data has been filtered and now we have a complete dataset at our hand.\n",
    "-  In the Dataset info, Total Missing(%) = 0.0%\n",
    "-  Number of variables = 09"
   ]
  },
  {
   "cell_type": "markdown",
   "metadata": {},
   "source": [
    "# 4. Exploratory Data Analysis"
   ]
  },
  {
   "cell_type": "code",
   "execution_count": 54,
   "metadata": {},
   "outputs": [
    {
     "data": {
      "text/plain": [
       "13+       5\n",
       "16+    4467\n",
       "18+    1328\n",
       "7+     1608\n",
       "all     911\n",
       "Name: AgeFactor, dtype: int64"
      ]
     },
     "execution_count": 54,
     "metadata": {},
     "output_type": "execute_result"
    }
   ],
   "source": [
    "data['AgeFactor'].value_counts().sort_index()"
   ]
  },
  {
   "cell_type": "code",
   "execution_count": 55,
   "metadata": {},
   "outputs": [
    {
     "data": {
      "text/plain": [
       "16+    690\n",
       "18+    354\n",
       "7+     193\n",
       "all    102\n",
       "13+      2\n",
       "Name: AgeFactor, dtype: int64"
      ]
     },
     "execution_count": 55,
     "metadata": {},
     "output_type": "execute_result"
    }
   ],
   "source": [
    "N=data['AgeFactor'][data['Streaming Platform']=='Netflix'].value_counts()\n",
    "N"
   ]
  },
  {
   "cell_type": "code",
   "execution_count": 56,
   "metadata": {},
   "outputs": [
    {
     "data": {
      "text/plain": [
       "16+    360\n",
       "18+     84\n",
       "all     69\n",
       "7+      54\n",
       "Name: AgeFactor, dtype: int64"
      ]
     },
     "execution_count": 56,
     "metadata": {},
     "output_type": "execute_result"
    }
   ],
   "source": [
    "PV=data['AgeFactor'][data['Streaming Platform']=='Prime Video'].value_counts()\n",
    "PV"
   ]
  },
  {
   "cell_type": "code",
   "execution_count": 57,
   "metadata": {},
   "outputs": [
    {
     "name": "stderr",
     "output_type": "stream",
     "text": [
      "c:\\users\\athar\\appdata\\local\\programs\\python\\python38-32\\lib\\site-packages\\seaborn\\_decorators.py:36: FutureWarning: Pass the following variable as a keyword arg: x. From version 0.12, the only valid positional argument will be `data`, and passing other arguments without an explicit keyword will result in an error or misinterpretation.\n",
      "  warnings.warn(\n"
     ]
    },
    {
     "data": {
      "text/plain": [
       "<AxesSubplot:xlabel='AgeFactor', ylabel='count'>"
      ]
     },
     "execution_count": 57,
     "metadata": {},
     "output_type": "execute_result"
    },
    {
     "data": {
      "image/png": "[encoded data removed]",
      "text/plain": [
       "<Figure size 432x288 with 1 Axes>"
      ]
     },
     "metadata": {
      "needs_background": "light"
     },
     "output_type": "display_data"
    }
   ],
   "source": [
    "sns.countplot('AgeFactor',data=data)\n",
    "\n"
   ]
  },
  {
   "cell_type": "markdown",
   "metadata": {},
   "source": [
    "**Observations**\n",
    "-  Maximum  viewership is attracted towards **16+** shows.\n",
    "-  18+ shows have less viewers."
   ]
  },
  {
   "cell_type": "code",
   "execution_count": 58,
   "metadata": {},
   "outputs": [
    {
     "data": {
      "text/plain": [
       "Text(0.5, 1.0, 'Correlation Between Features')"
      ]
     },
     "execution_count": 58,
     "metadata": {},
     "output_type": "execute_result"
    },
    {
     "data": {
      "image/png": "[encoded data removed]",
      "text/plain": [
       "<Figure size 432x288 with 2 Axes>"
      ]
     },
     "metadata": {
      "needs_background": "light"
     },
     "output_type": "display_data"
    }
   ],
   "source": [
    "sns.heatmap(data.corr(),vmax=.8,linewidth=.01, square = True, annot = True,cmap='YlGnBu',linecolor ='black')\n",
    "plt.title(\"Correlation Between Features\")\n"
   ]
  },
  {
   "cell_type": "markdown",
   "metadata": {},
   "source": [
    "**Observations**\n",
    "\n",
    "-  IMDB Rating is **negatively** related to Year Released. This implies significant **decrease** in the quality of the content.\n",
    "-  R-Rating is also **negatively** related to Year Released."
   ]
  },
  {
   "cell_type": "code",
   "execution_count": 59,
   "metadata": {},
   "outputs": [
    {
     "data": {
      "text/html": [
       "<div>\n",
       "<style scoped>\n",
       "    .dataframe tbody tr th:only-of-type {\n",
       "        vertical-align: middle;\n",
       "    }\n",
       "\n",
       "    .dataframe tbody tr th {\n",
       "        vertical-align: top;\n",
       "    }\n",
       "\n",
       "    .dataframe thead th {\n",
       "        text-align: right;\n",
       "    }\n",
       "</style>\n",
       "<table border=\"1\" class=\"dataframe\">\n",
       "  <thead>\n",
       "    <tr style=\"text-align: right;\">\n",
       "      <th></th>\n",
       "      <th>Year Released</th>\n",
       "      <th>IMDB Rating</th>\n",
       "      <th>R Rating</th>\n",
       "      <th>Seasons</th>\n",
       "    </tr>\n",
       "  </thead>\n",
       "  <tbody>\n",
       "    <tr>\n",
       "      <th>count</th>\n",
       "      <td>8319.000000</td>\n",
       "      <td>8319.000000</td>\n",
       "      <td>8319.000000</td>\n",
       "      <td>8319.000000</td>\n",
       "    </tr>\n",
       "    <tr>\n",
       "      <th>mean</th>\n",
       "      <td>2010.323476</td>\n",
       "      <td>7.011528</td>\n",
       "      <td>52.262171</td>\n",
       "      <td>3.308571</td>\n",
       "    </tr>\n",
       "    <tr>\n",
       "      <th>std</th>\n",
       "      <td>11.386933</td>\n",
       "      <td>1.126076</td>\n",
       "      <td>14.576787</td>\n",
       "      <td>5.449642</td>\n",
       "    </tr>\n",
       "    <tr>\n",
       "      <th>min</th>\n",
       "      <td>1922.000000</td>\n",
       "      <td>1.000000</td>\n",
       "      <td>17.000000</td>\n",
       "      <td>1.000000</td>\n",
       "    </tr>\n",
       "    <tr>\n",
       "      <th>25%</th>\n",
       "      <td>2008.000000</td>\n",
       "      <td>6.400000</td>\n",
       "      <td>42.000000</td>\n",
       "      <td>1.000000</td>\n",
       "    </tr>\n",
       "    <tr>\n",
       "      <th>50%</th>\n",
       "      <td>2014.000000</td>\n",
       "      <td>7.200000</td>\n",
       "      <td>51.000000</td>\n",
       "      <td>2.000000</td>\n",
       "    </tr>\n",
       "    <tr>\n",
       "      <th>75%</th>\n",
       "      <td>2017.000000</td>\n",
       "      <td>7.800000</td>\n",
       "      <td>62.000000</td>\n",
       "      <td>4.000000</td>\n",
       "    </tr>\n",
       "    <tr>\n",
       "      <th>max</th>\n",
       "      <td>2020.000000</td>\n",
       "      <td>9.700000</td>\n",
       "      <td>100.000000</td>\n",
       "      <td>187.000000</td>\n",
       "    </tr>\n",
       "  </tbody>\n",
       "</table>\n",
       "</div>"
      ],
      "text/plain": [
       "       Year Released  IMDB Rating     R Rating      Seasons\n",
       "count    8319.000000  8319.000000  8319.000000  8319.000000\n",
       "mean     2010.323476     7.011528    52.262171     3.308571\n",
       "std        11.386933     1.126076    14.576787     5.449642\n",
       "min      1922.000000     1.000000    17.000000     1.000000\n",
       "25%      2008.000000     6.400000    42.000000     1.000000\n",
       "50%      2014.000000     7.200000    51.000000     2.000000\n",
       "75%      2017.000000     7.800000    62.000000     4.000000\n",
       "max      2020.000000     9.700000   100.000000   187.000000"
      ]
     },
     "execution_count": 59,
     "metadata": {},
     "output_type": "execute_result"
    }
   ],
   "source": [
    "import re\n",
    "def extract_num_of_seasons(seasons):\n",
    "    numOfSeasons = re.findall(r'\\d+', seasons)[0]\n",
    "    return int(numOfSeasons)\n",
    "\n",
    "data['Seasons'] = data['No of Seasons'].apply(lambda x:extract_num_of_seasons(x))\n",
    "data.describe()"
   ]
  },
  {
   "cell_type": "code",
   "execution_count": 60,
   "metadata": {},
   "outputs": [
    {
     "data": {
      "text/plain": [
       "((1.0, 3.0]       42\n",
       " (3.0, 5.0]      465\n",
       " (5.0, 6.5]     1842\n",
       " (6.5, 7.5]     3095\n",
       " (7.5, 8.5]     2520\n",
       " (8.5, 10.0]     354\n",
       " Name: IMDB Rating, dtype: int64,\n",
       " (1, 3]       2458\n",
       " (3, 5]        948\n",
       " (5, 10]       799\n",
       " (10, 200]     392\n",
       " Name: Seasons, dtype: int64)"
      ]
     },
     "execution_count": 60,
     "metadata": {},
     "output_type": "execute_result"
    }
   ],
   "source": [
    "IMDB_category=pd.cut(data['IMDB Rating'],bins=[1,3,5,6.5,7.5,8.5,10]).value_counts().sort_index()\n",
    "Seasons_category=pd.cut(data['Seasons'],bins=[1,3,5,10,200]).value_counts().sort_index()\n",
    "IMDB_category,Seasons_category"
   ]
  },
  {
   "cell_type": "code",
   "execution_count": 61,
   "metadata": {},
   "outputs": [
    {
     "data": {
      "text/plain": [
       "<seaborn.axisgrid.PairGrid at 0x22d3ebb0>"
      ]
     },
     "execution_count": 61,
     "metadata": {},
     "output_type": "execute_result"
    },
    {
     "data": {
      "image/png": "[encoded data removed]",
      "text/plain": [
       "<Figure size 720x720 with 20 Axes>"
      ]
     },
     "metadata": {
      "needs_background": "light"
     },
     "output_type": "display_data"
    }
   ],
   "source": [
    "sns.pairplot(data)"
   ]
  },
  {
   "cell_type": "code",
   "execution_count": 62,
   "metadata": {},
   "outputs": [
    {
     "name": "stderr",
     "output_type": "stream",
     "text": [
      "c:\\users\\athar\\appdata\\local\\programs\\python\\python38-32\\lib\\site-packages\\seaborn\\_decorators.py:36: FutureWarning: Pass the following variables as keyword args: x, y. From version 0.12, the only valid positional argument will be `data`, and passing other arguments without an explicit keyword will result in an error or misinterpretation.\n",
      "  warnings.warn(\n"
     ]
    },
    {
     "data": {
      "text/plain": [
       "<AxesSubplot:xlabel='IMDB Rating', ylabel='Seasons'>"
      ]
     },
     "execution_count": 62,
     "metadata": {},
     "output_type": "execute_result"
    },
    {
     "data": {
      "image/png": "[encoded data removed]",
      "text/plain": [
       "<Figure size 432x288 with 1 Axes>"
      ]
     },
     "metadata": {
      "needs_background": "light"
     },
     "output_type": "display_data"
    }
   ],
   "source": [
    "sns.scatterplot(data['IMDB Rating'], data['Seasons'])\n"
   ]
  },
  {
   "cell_type": "code",
   "execution_count": 63,
   "metadata": {},
   "outputs": [
    {
     "name": "stderr",
     "output_type": "stream",
     "text": [
      "c:\\users\\athar\\appdata\\local\\programs\\python\\python38-32\\lib\\site-packages\\seaborn\\_decorators.py:36: FutureWarning: Pass the following variables as keyword args: x, y. From version 0.12, the only valid positional argument will be `data`, and passing other arguments without an explicit keyword will result in an error or misinterpretation.\n",
      "  warnings.warn(\n"
     ]
    },
    {
     "data": {
      "text/plain": [
       "<AxesSubplot:xlabel='AgeFactor', ylabel='R Rating'>"
      ]
     },
     "execution_count": 63,
     "metadata": {},
     "output_type": "execute_result"
    },
    {
     "data": {
      "image/png": "[encoded data removed]",
      "text/plain": [
       "<Figure size 432x288 with 1 Axes>"
      ]
     },
     "metadata": {
      "needs_background": "light"
     },
     "output_type": "display_data"
    }
   ],
   "source": [
    "sns.scatterplot(data['AgeFactor'],data['R Rating'])"
   ]
  },
  {
   "cell_type": "code",
   "execution_count": 64,
   "metadata": {},
   "outputs": [
    {
     "name": "stderr",
     "output_type": "stream",
     "text": [
      "c:\\users\\athar\\appdata\\local\\programs\\python\\python38-32\\lib\\site-packages\\seaborn\\_decorators.py:36: FutureWarning: Pass the following variables as keyword args: x, y. From version 0.12, the only valid positional argument will be `data`, and passing other arguments without an explicit keyword will result in an error or misinterpretation.\n",
      "  warnings.warn(\n"
     ]
    },
    {
     "data": {
      "text/plain": [
       "<AxesSubplot:xlabel='Seasons', ylabel='R Rating'>"
      ]
     },
     "execution_count": 64,
     "metadata": {},
     "output_type": "execute_result"
    },
    {
     "data": {
      "image/png": "[encoded data removed]",
      "text/plain": [
       "<Figure size 432x288 with 1 Axes>"
      ]
     },
     "metadata": {
      "needs_background": "light"
     },
     "output_type": "display_data"
    }
   ],
   "source": [
    "sns.scatterplot(data['Seasons'],data['R Rating'])"
   ]
  },
  {
   "cell_type": "markdown",
   "metadata": {},
   "source": [
    "*It is very much observed that **Ratings** of the shows **decrease with increase** in No. of Seasons.*\n",
    "\n",
    "**18+** *shows have the **best** R Ratings*. "
   ]
  },
  {
   "cell_type": "code",
   "execution_count": 65,
   "metadata": {},
   "outputs": [
    {
     "data": {
      "text/html": [
       "<div>\n",
       "<style scoped>\n",
       "    .dataframe tbody tr th:only-of-type {\n",
       "        vertical-align: middle;\n",
       "    }\n",
       "\n",
       "    .dataframe tbody tr th {\n",
       "        vertical-align: top;\n",
       "    }\n",
       "\n",
       "    .dataframe thead th {\n",
       "        text-align: right;\n",
       "    }\n",
       "</style>\n",
       "<table border=\"1\" class=\"dataframe\">\n",
       "  <thead>\n",
       "    <tr style=\"text-align: right;\">\n",
       "      <th></th>\n",
       "      <th>Year Released</th>\n",
       "      <th>AgeFactor</th>\n",
       "      <th>IMDB Rating</th>\n",
       "      <th>R Rating</th>\n",
       "      <th>Genre</th>\n",
       "      <th>Description</th>\n",
       "      <th>No of Seasons</th>\n",
       "      <th>Streaming Platform</th>\n",
       "      <th>Seasons</th>\n",
       "    </tr>\n",
       "    <tr>\n",
       "      <th>Series Title</th>\n",
       "      <th></th>\n",
       "      <th></th>\n",
       "      <th></th>\n",
       "      <th></th>\n",
       "      <th></th>\n",
       "      <th></th>\n",
       "      <th></th>\n",
       "      <th></th>\n",
       "      <th></th>\n",
       "    </tr>\n",
       "  </thead>\n",
       "  <tbody>\n",
       "    <tr>\n",
       "      <th>Breaking Bad</th>\n",
       "      <td>2008</td>\n",
       "      <td>18+</td>\n",
       "      <td>9.5</td>\n",
       "      <td>100</td>\n",
       "      <td>Crime,Drama</td>\n",
       "      <td>When Walter White, a New Mexico chemistry teac...</td>\n",
       "      <td>5Seasons</td>\n",
       "      <td>Netflix</td>\n",
       "      <td>5</td>\n",
       "    </tr>\n",
       "    <tr>\n",
       "      <th>Game of Thrones</th>\n",
       "      <td>2011</td>\n",
       "      <td>18+</td>\n",
       "      <td>9.3</td>\n",
       "      <td>99</td>\n",
       "      <td>Action &amp; Adventure,Drama</td>\n",
       "      <td>Seven noble families fight for control of the ...</td>\n",
       "      <td>8Seasons</td>\n",
       "      <td>HBO MAX,HBO</td>\n",
       "      <td>8</td>\n",
       "    </tr>\n",
       "    <tr>\n",
       "      <th>Rick and Morty</th>\n",
       "      <td>2013</td>\n",
       "      <td>18+</td>\n",
       "      <td>9.2</td>\n",
       "      <td>97</td>\n",
       "      <td>Animation,Comedy</td>\n",
       "      <td>Rick is a mentally-unbalanced but scientifical...</td>\n",
       "      <td>4Seasons</td>\n",
       "      <td>Free Services,HBO MAX,Hulu</td>\n",
       "      <td>4</td>\n",
       "    </tr>\n",
       "    <tr>\n",
       "      <th>Stranger Things</th>\n",
       "      <td>2016</td>\n",
       "      <td>16+</td>\n",
       "      <td>8.8</td>\n",
       "      <td>96</td>\n",
       "      <td>Drama,Fantasy</td>\n",
       "      <td>When a young boy vanishes, a small town uncove...</td>\n",
       "      <td>3Seasons</td>\n",
       "      <td>Netflix</td>\n",
       "      <td>3</td>\n",
       "    </tr>\n",
       "    <tr>\n",
       "      <th>The Boys</th>\n",
       "      <td>2019</td>\n",
       "      <td>18+</td>\n",
       "      <td>8.7</td>\n",
       "      <td>95</td>\n",
       "      <td>Action &amp; Adventure,Comedy</td>\n",
       "      <td>A group of vigilantes known informally as âT...</td>\n",
       "      <td>2Seasons</td>\n",
       "      <td>Prime Video</td>\n",
       "      <td>2</td>\n",
       "    </tr>\n",
       "  </tbody>\n",
       "</table>\n",
       "</div>"
      ],
      "text/plain": [
       "                 Year Released AgeFactor  IMDB Rating  R Rating  \\\n",
       "Series Title                                                      \n",
       "Breaking Bad              2008       18+          9.5       100   \n",
       "Game of Thrones           2011       18+          9.3        99   \n",
       "Rick and Morty            2013       18+          9.2        97   \n",
       "Stranger Things           2016       16+          8.8        96   \n",
       "The Boys                  2019       18+          8.7        95   \n",
       "\n",
       "                                     Genre  \\\n",
       "Series Title                                 \n",
       "Breaking Bad                   Crime,Drama   \n",
       "Game of Thrones   Action & Adventure,Drama   \n",
       "Rick and Morty            Animation,Comedy   \n",
       "Stranger Things              Drama,Fantasy   \n",
       "The Boys         Action & Adventure,Comedy   \n",
       "\n",
       "                                                       Description  \\\n",
       "Series Title                                                         \n",
       "Breaking Bad     When Walter White, a New Mexico chemistry teac...   \n",
       "Game of Thrones  Seven noble families fight for control of the ...   \n",
       "Rick and Morty   Rick is a mentally-unbalanced but scientifical...   \n",
       "Stranger Things  When a young boy vanishes, a small town uncove...   \n",
       "The Boys         A group of vigilantes known informally as âT...   \n",
       "\n",
       "                No of Seasons          Streaming Platform  Seasons  \n",
       "Series Title                                                        \n",
       "Breaking Bad         5Seasons                     Netflix        5  \n",
       "Game of Thrones      8Seasons                 HBO MAX,HBO        8  \n",
       "Rick and Morty       4Seasons  Free Services,HBO MAX,Hulu        4  \n",
       "Stranger Things      3Seasons                     Netflix        3  \n",
       "The Boys             2Seasons                 Prime Video        2  "
      ]
     },
     "execution_count": 65,
     "metadata": {},
     "output_type": "execute_result"
    }
   ],
   "source": [
    "data.head()"
   ]
  },
  {
   "cell_type": "code",
   "execution_count": 66,
   "metadata": {},
   "outputs": [],
   "source": [
    "data.drop(['Description','No of Seasons'],axis=1,inplace=True)"
   ]
  },
  {
   "cell_type": "code",
   "execution_count": 67,
   "metadata": {},
   "outputs": [
    {
     "data": {
      "text/html": [
       "<div>\n",
       "<style scoped>\n",
       "    .dataframe tbody tr th:only-of-type {\n",
       "        vertical-align: middle;\n",
       "    }\n",
       "\n",
       "    .dataframe tbody tr th {\n",
       "        vertical-align: top;\n",
       "    }\n",
       "\n",
       "    .dataframe thead th {\n",
       "        text-align: right;\n",
       "    }\n",
       "</style>\n",
       "<table border=\"1\" class=\"dataframe\">\n",
       "  <thead>\n",
       "    <tr style=\"text-align: right;\">\n",
       "      <th></th>\n",
       "      <th>Year Released</th>\n",
       "      <th>AgeFactor</th>\n",
       "      <th>IMDB Rating</th>\n",
       "      <th>R Rating</th>\n",
       "      <th>Genre</th>\n",
       "      <th>Streaming Platform</th>\n",
       "      <th>Seasons</th>\n",
       "    </tr>\n",
       "    <tr>\n",
       "      <th>Series Title</th>\n",
       "      <th></th>\n",
       "      <th></th>\n",
       "      <th></th>\n",
       "      <th></th>\n",
       "      <th></th>\n",
       "      <th></th>\n",
       "      <th></th>\n",
       "    </tr>\n",
       "  </thead>\n",
       "  <tbody>\n",
       "    <tr>\n",
       "      <th>Breaking Bad</th>\n",
       "      <td>2008</td>\n",
       "      <td>18+</td>\n",
       "      <td>9.5</td>\n",
       "      <td>100</td>\n",
       "      <td>Crime,Drama</td>\n",
       "      <td>Netflix</td>\n",
       "      <td>5</td>\n",
       "    </tr>\n",
       "    <tr>\n",
       "      <th>Game of Thrones</th>\n",
       "      <td>2011</td>\n",
       "      <td>18+</td>\n",
       "      <td>9.3</td>\n",
       "      <td>99</td>\n",
       "      <td>Action &amp; Adventure,Drama</td>\n",
       "      <td>HBO MAX,HBO</td>\n",
       "      <td>8</td>\n",
       "    </tr>\n",
       "    <tr>\n",
       "      <th>Rick and Morty</th>\n",
       "      <td>2013</td>\n",
       "      <td>18+</td>\n",
       "      <td>9.2</td>\n",
       "      <td>97</td>\n",
       "      <td>Animation,Comedy</td>\n",
       "      <td>Free Services,HBO MAX,Hulu</td>\n",
       "      <td>4</td>\n",
       "    </tr>\n",
       "    <tr>\n",
       "      <th>Stranger Things</th>\n",
       "      <td>2016</td>\n",
       "      <td>16+</td>\n",
       "      <td>8.8</td>\n",
       "      <td>96</td>\n",
       "      <td>Drama,Fantasy</td>\n",
       "      <td>Netflix</td>\n",
       "      <td>3</td>\n",
       "    </tr>\n",
       "    <tr>\n",
       "      <th>The Boys</th>\n",
       "      <td>2019</td>\n",
       "      <td>18+</td>\n",
       "      <td>8.7</td>\n",
       "      <td>95</td>\n",
       "      <td>Action &amp; Adventure,Comedy</td>\n",
       "      <td>Prime Video</td>\n",
       "      <td>2</td>\n",
       "    </tr>\n",
       "  </tbody>\n",
       "</table>\n",
       "</div>"
      ],
      "text/plain": [
       "                 Year Released AgeFactor  IMDB Rating  R Rating  \\\n",
       "Series Title                                                      \n",
       "Breaking Bad              2008       18+          9.5       100   \n",
       "Game of Thrones           2011       18+          9.3        99   \n",
       "Rick and Morty            2013       18+          9.2        97   \n",
       "Stranger Things           2016       16+          8.8        96   \n",
       "The Boys                  2019       18+          8.7        95   \n",
       "\n",
       "                                     Genre          Streaming Platform  \\\n",
       "Series Title                                                             \n",
       "Breaking Bad                   Crime,Drama                     Netflix   \n",
       "Game of Thrones   Action & Adventure,Drama                 HBO MAX,HBO   \n",
       "Rick and Morty            Animation,Comedy  Free Services,HBO MAX,Hulu   \n",
       "Stranger Things              Drama,Fantasy                     Netflix   \n",
       "The Boys         Action & Adventure,Comedy                 Prime Video   \n",
       "\n",
       "                 Seasons  \n",
       "Series Title              \n",
       "Breaking Bad           5  \n",
       "Game of Thrones        8  \n",
       "Rick and Morty         4  \n",
       "Stranger Things        3  \n",
       "The Boys               2  "
      ]
     },
     "execution_count": 67,
     "metadata": {},
     "output_type": "execute_result"
    }
   ],
   "source": [
    "data.head()"
   ]
  },
  {
   "cell_type": "code",
   "execution_count": 68,
   "metadata": {},
   "outputs": [],
   "source": [
    "data['Overall Rating']=data['IMDB Rating']+data[\"R Rating\"]\n"
   ]
  },
  {
   "cell_type": "code",
   "execution_count": 69,
   "metadata": {},
   "outputs": [
    {
     "data": {
      "text/html": [
       "<div>\n",
       "<style scoped>\n",
       "    .dataframe tbody tr th:only-of-type {\n",
       "        vertical-align: middle;\n",
       "    }\n",
       "\n",
       "    .dataframe tbody tr th {\n",
       "        vertical-align: top;\n",
       "    }\n",
       "\n",
       "    .dataframe thead th {\n",
       "        text-align: right;\n",
       "    }\n",
       "</style>\n",
       "<table border=\"1\" class=\"dataframe\">\n",
       "  <thead>\n",
       "    <tr style=\"text-align: right;\">\n",
       "      <th></th>\n",
       "      <th>Year Released</th>\n",
       "      <th>AgeFactor</th>\n",
       "      <th>IMDB Rating</th>\n",
       "      <th>R Rating</th>\n",
       "      <th>Genre</th>\n",
       "      <th>Streaming Platform</th>\n",
       "      <th>Seasons</th>\n",
       "      <th>Overall Rating</th>\n",
       "      <th>Rating %</th>\n",
       "    </tr>\n",
       "    <tr>\n",
       "      <th>Series Title</th>\n",
       "      <th></th>\n",
       "      <th></th>\n",
       "      <th></th>\n",
       "      <th></th>\n",
       "      <th></th>\n",
       "      <th></th>\n",
       "      <th></th>\n",
       "      <th></th>\n",
       "      <th></th>\n",
       "    </tr>\n",
       "  </thead>\n",
       "  <tbody>\n",
       "    <tr>\n",
       "      <th>Breaking Bad</th>\n",
       "      <td>2008</td>\n",
       "      <td>18+</td>\n",
       "      <td>9.5</td>\n",
       "      <td>100</td>\n",
       "      <td>Crime,Drama</td>\n",
       "      <td>Netflix</td>\n",
       "      <td>5</td>\n",
       "      <td>109.5</td>\n",
       "      <td>99.545455</td>\n",
       "    </tr>\n",
       "    <tr>\n",
       "      <th>Game of Thrones</th>\n",
       "      <td>2011</td>\n",
       "      <td>18+</td>\n",
       "      <td>9.3</td>\n",
       "      <td>99</td>\n",
       "      <td>Action &amp; Adventure,Drama</td>\n",
       "      <td>HBO MAX,HBO</td>\n",
       "      <td>8</td>\n",
       "      <td>108.3</td>\n",
       "      <td>98.454545</td>\n",
       "    </tr>\n",
       "    <tr>\n",
       "      <th>Rick and Morty</th>\n",
       "      <td>2013</td>\n",
       "      <td>18+</td>\n",
       "      <td>9.2</td>\n",
       "      <td>97</td>\n",
       "      <td>Animation,Comedy</td>\n",
       "      <td>Free Services,HBO MAX,Hulu</td>\n",
       "      <td>4</td>\n",
       "      <td>106.2</td>\n",
       "      <td>96.545455</td>\n",
       "    </tr>\n",
       "    <tr>\n",
       "      <th>Stranger Things</th>\n",
       "      <td>2016</td>\n",
       "      <td>16+</td>\n",
       "      <td>8.8</td>\n",
       "      <td>96</td>\n",
       "      <td>Drama,Fantasy</td>\n",
       "      <td>Netflix</td>\n",
       "      <td>3</td>\n",
       "      <td>104.8</td>\n",
       "      <td>95.272727</td>\n",
       "    </tr>\n",
       "    <tr>\n",
       "      <th>The Boys</th>\n",
       "      <td>2019</td>\n",
       "      <td>18+</td>\n",
       "      <td>8.7</td>\n",
       "      <td>95</td>\n",
       "      <td>Action &amp; Adventure,Comedy</td>\n",
       "      <td>Prime Video</td>\n",
       "      <td>2</td>\n",
       "      <td>103.7</td>\n",
       "      <td>94.272727</td>\n",
       "    </tr>\n",
       "  </tbody>\n",
       "</table>\n",
       "</div>"
      ],
      "text/plain": [
       "                 Year Released AgeFactor  IMDB Rating  R Rating  \\\n",
       "Series Title                                                      \n",
       "Breaking Bad              2008       18+          9.5       100   \n",
       "Game of Thrones           2011       18+          9.3        99   \n",
       "Rick and Morty            2013       18+          9.2        97   \n",
       "Stranger Things           2016       16+          8.8        96   \n",
       "The Boys                  2019       18+          8.7        95   \n",
       "\n",
       "                                     Genre          Streaming Platform  \\\n",
       "Series Title                                                             \n",
       "Breaking Bad                   Crime,Drama                     Netflix   \n",
       "Game of Thrones   Action & Adventure,Drama                 HBO MAX,HBO   \n",
       "Rick and Morty            Animation,Comedy  Free Services,HBO MAX,Hulu   \n",
       "Stranger Things              Drama,Fantasy                     Netflix   \n",
       "The Boys         Action & Adventure,Comedy                 Prime Video   \n",
       "\n",
       "                 Seasons  Overall Rating   Rating %  \n",
       "Series Title                                         \n",
       "Breaking Bad           5           109.5  99.545455  \n",
       "Game of Thrones        8           108.3  98.454545  \n",
       "Rick and Morty         4           106.2  96.545455  \n",
       "Stranger Things        3           104.8  95.272727  \n",
       "The Boys               2           103.7  94.272727  "
      ]
     },
     "execution_count": 69,
     "metadata": {},
     "output_type": "execute_result"
    }
   ],
   "source": [
    "data['Rating %']=(data['Overall Rating']/110)*100\n",
    "data.head()"
   ]
  },
  {
   "cell_type": "markdown",
   "metadata": {},
   "source": [
    "# 5. Model Formation"
   ]
  },
  {
   "cell_type": "code",
   "execution_count": 70,
   "metadata": {},
   "outputs": [
    {
     "data": {
      "text/html": [
       "<div>\n",
       "<style scoped>\n",
       "    .dataframe tbody tr th:only-of-type {\n",
       "        vertical-align: middle;\n",
       "    }\n",
       "\n",
       "    .dataframe tbody tr th {\n",
       "        vertical-align: top;\n",
       "    }\n",
       "\n",
       "    .dataframe thead th {\n",
       "        text-align: right;\n",
       "    }\n",
       "</style>\n",
       "<table border=\"1\" class=\"dataframe\">\n",
       "  <thead>\n",
       "    <tr style=\"text-align: right;\">\n",
       "      <th></th>\n",
       "      <th>Year Released</th>\n",
       "      <th>AgeFactor</th>\n",
       "      <th>IMDB Rating</th>\n",
       "      <th>R Rating</th>\n",
       "      <th>Genre</th>\n",
       "      <th>Streaming Platform</th>\n",
       "      <th>Seasons</th>\n",
       "      <th>Overall Rating</th>\n",
       "      <th>Rating %</th>\n",
       "      <th>Result</th>\n",
       "    </tr>\n",
       "    <tr>\n",
       "      <th>Series Title</th>\n",
       "      <th></th>\n",
       "      <th></th>\n",
       "      <th></th>\n",
       "      <th></th>\n",
       "      <th></th>\n",
       "      <th></th>\n",
       "      <th></th>\n",
       "      <th></th>\n",
       "      <th></th>\n",
       "      <th></th>\n",
       "    </tr>\n",
       "  </thead>\n",
       "  <tbody>\n",
       "    <tr>\n",
       "      <th>Breaking Bad</th>\n",
       "      <td>2008</td>\n",
       "      <td>18+</td>\n",
       "      <td>9.5</td>\n",
       "      <td>100</td>\n",
       "      <td>Crime,Drama</td>\n",
       "      <td>Netflix</td>\n",
       "      <td>5</td>\n",
       "      <td>109.5</td>\n",
       "      <td>99.545455</td>\n",
       "      <td>1</td>\n",
       "    </tr>\n",
       "    <tr>\n",
       "      <th>Game of Thrones</th>\n",
       "      <td>2011</td>\n",
       "      <td>18+</td>\n",
       "      <td>9.3</td>\n",
       "      <td>99</td>\n",
       "      <td>Action &amp; Adventure,Drama</td>\n",
       "      <td>HBO MAX,HBO</td>\n",
       "      <td>8</td>\n",
       "      <td>108.3</td>\n",
       "      <td>98.454545</td>\n",
       "      <td>1</td>\n",
       "    </tr>\n",
       "    <tr>\n",
       "      <th>Rick and Morty</th>\n",
       "      <td>2013</td>\n",
       "      <td>18+</td>\n",
       "      <td>9.2</td>\n",
       "      <td>97</td>\n",
       "      <td>Animation,Comedy</td>\n",
       "      <td>Free Services,HBO MAX,Hulu</td>\n",
       "      <td>4</td>\n",
       "      <td>106.2</td>\n",
       "      <td>96.545455</td>\n",
       "      <td>1</td>\n",
       "    </tr>\n",
       "    <tr>\n",
       "      <th>Stranger Things</th>\n",
       "      <td>2016</td>\n",
       "      <td>16+</td>\n",
       "      <td>8.8</td>\n",
       "      <td>96</td>\n",
       "      <td>Drama,Fantasy</td>\n",
       "      <td>Netflix</td>\n",
       "      <td>3</td>\n",
       "      <td>104.8</td>\n",
       "      <td>95.272727</td>\n",
       "      <td>1</td>\n",
       "    </tr>\n",
       "    <tr>\n",
       "      <th>The Boys</th>\n",
       "      <td>2019</td>\n",
       "      <td>18+</td>\n",
       "      <td>8.7</td>\n",
       "      <td>95</td>\n",
       "      <td>Action &amp; Adventure,Comedy</td>\n",
       "      <td>Prime Video</td>\n",
       "      <td>2</td>\n",
       "      <td>103.7</td>\n",
       "      <td>94.272727</td>\n",
       "      <td>1</td>\n",
       "    </tr>\n",
       "  </tbody>\n",
       "</table>\n",
       "</div>"
      ],
      "text/plain": [
       "                 Year Released AgeFactor  IMDB Rating  R Rating  \\\n",
       "Series Title                                                      \n",
       "Breaking Bad              2008       18+          9.5       100   \n",
       "Game of Thrones           2011       18+          9.3        99   \n",
       "Rick and Morty            2013       18+          9.2        97   \n",
       "Stranger Things           2016       16+          8.8        96   \n",
       "The Boys                  2019       18+          8.7        95   \n",
       "\n",
       "                                     Genre          Streaming Platform  \\\n",
       "Series Title                                                             \n",
       "Breaking Bad                   Crime,Drama                     Netflix   \n",
       "Game of Thrones   Action & Adventure,Drama                 HBO MAX,HBO   \n",
       "Rick and Morty            Animation,Comedy  Free Services,HBO MAX,Hulu   \n",
       "Stranger Things              Drama,Fantasy                     Netflix   \n",
       "The Boys         Action & Adventure,Comedy                 Prime Video   \n",
       "\n",
       "                 Seasons  Overall Rating   Rating %  Result  \n",
       "Series Title                                                 \n",
       "Breaking Bad           5           109.5  99.545455       1  \n",
       "Game of Thrones        8           108.3  98.454545       1  \n",
       "Rick and Morty         4           106.2  96.545455       1  \n",
       "Stranger Things        3           104.8  95.272727       1  \n",
       "The Boys               2           103.7  94.272727       1  "
      ]
     },
     "execution_count": 70,
     "metadata": {},
     "output_type": "execute_result"
    }
   ],
   "source": [
    "data['Result']=(data['Rating %']>74.54).astype(int)\n",
    "data.head()"
   ]
  },
  {
   "cell_type": "code",
   "execution_count": 71,
   "metadata": {},
   "outputs": [
    {
     "data": {
      "text/plain": [
       "((8319, 1), (8319, 1))"
      ]
     },
     "execution_count": 71,
     "metadata": {},
     "output_type": "execute_result"
    }
   ],
   "source": [
    "x=data.loc[:,['Seasons']].values\n",
    "y=data.loc[:,['Result']].values\n",
    "x.shape,y.shape"
   ]
  },
  {
   "cell_type": "code",
   "execution_count": 72,
   "metadata": {},
   "outputs": [],
   "source": [
    "from sklearn.model_selection import train_test_split\n",
    "xtrain,xtest,ytrain,ytest=train_test_split(x,y,test_size=0.25,random_state=0)"
   ]
  },
  {
   "cell_type": "code",
   "execution_count": 73,
   "metadata": {},
   "outputs": [
    {
     "name": "stderr",
     "output_type": "stream",
     "text": [
      "c:\\users\\athar\\appdata\\local\\programs\\python\\python38-32\\lib\\site-packages\\sklearn\\utils\\validation.py:63: DataConversionWarning: A column-vector y was passed when a 1d array was expected. Please change the shape of y to (n_samples, ), for example using ravel().\n",
      "  return f(*args, **kwargs)\n"
     ]
    },
    {
     "data": {
      "text/plain": [
       "LogisticRegression(random_state=0)"
      ]
     },
     "execution_count": 73,
     "metadata": {},
     "output_type": "execute_result"
    }
   ],
   "source": [
    "from sklearn.linear_model import LogisticRegression\n",
    "classifier = LogisticRegression(random_state = 0) \n",
    "classifier.fit(xtrain,ytrain)"
   ]
  },
  {
   "cell_type": "code",
   "execution_count": 75,
   "metadata": {},
   "outputs": [],
   "source": [
    "y_pred=classifier.predict(xtest)"
   ]
  },
  {
   "cell_type": "code",
   "execution_count": 77,
   "metadata": {},
   "outputs": [
    {
     "name": "stdout",
     "output_type": "stream",
     "text": [
      "Confusion Matrix : \n",
      " [[1905    1]\n",
      " [ 174    0]]\n"
     ]
    }
   ],
   "source": [
    "from sklearn.metrics import confusion_matrix \n",
    "cm = confusion_matrix(ytest, y_pred) \n",
    "print (\"Confusion Matrix : \\n\", cm)"
   ]
  },
  {
   "cell_type": "code",
   "execution_count": 78,
   "metadata": {},
   "outputs": [
    {
     "name": "stdout",
     "output_type": "stream",
     "text": [
      "Accuracy :  0.9158653846153846\n"
     ]
    }
   ],
   "source": [
    "from sklearn.metrics import accuracy_score \n",
    "print (\"Accuracy : \", accuracy_score(ytest, y_pred)) "
   ]
  }
 ],
 "metadata": {
  "kernelspec": {
   "display_name": "Python 3",
   "language": "python",
   "name": "python3"
  },
  "language_info": {
   "codemirror_mode": {
    "name": "ipython",
    "version": 3
   },
   "file_extension": ".py",
   "mimetype": "text/x-python",
   "name": "python",
   "nbconvert_exporter": "python",
   "pygments_lexer": "ipython3",
   "version": "3.8.5"
  }
 },
 "nbformat": 4,
 "nbformat_minor": 4
}
